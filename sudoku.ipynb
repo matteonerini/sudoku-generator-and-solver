{
  "nbformat": 4,
  "nbformat_minor": 0,
  "metadata": {
    "colab": {
      "name": "sudoku.ipynb",
      "provenance": [],
      "authorship_tag": "ABX9TyPSHkvY0niP7mYIAkWiJW/O",
      "include_colab_link": true
    },
    "kernelspec": {
      "name": "python3",
      "display_name": "Python 3"
    }
  },
  "cells": [
    {
      "cell_type": "markdown",
      "metadata": {
        "id": "view-in-github",
        "colab_type": "text"
      },
      "source": [
        "<a href=\"https://colab.research.google.com/github/matteonerini/sudoku-generator-and-solver/blob/main/sudoku.ipynb\" target=\"_parent\"><img src=\"https://colab.research.google.com/assets/colab-badge.svg\" alt=\"Open In Colab\"/></a>"
      ]
    },
    {
      "cell_type": "markdown",
      "metadata": {
        "id": "-9hwW-4cpN4h"
      },
      "source": [
        "# Sudoku Generator and Solver\r\n",
        "\r\n",
        "Sudoku is a logic-based puzzle in which the objective is to fill a 9x9 grid with numerical digits from 1 to 9. Each row, each column, and each 3x3 region must contain all the digits from 1 to 9.\r\n",
        "\r\n",
        "In this script, we propose simple yet interesting recucrsive algorithms to find all the solutions of a given Sudoku, and to generate new puzzles such that they have a unique solution."
      ]
    },
    {
      "cell_type": "code",
      "metadata": {
        "id": "SNMIUH1Jx2C6"
      },
      "source": [
        "# Import relevant libraries\r\n",
        "import numpy as np\r\n",
        "from random import randint, shuffle\r\n",
        "import matplotlib.pyplot as plt\r\n",
        "import math\r\n",
        "\r\n",
        "# Utility variables\r\n",
        "d = 9\r\n",
        "d_sqrt = int(math.sqrt(d))\r\n",
        "numbers = list(range(1,d+1))\r\n",
        "cells = list(range(d**2))\r\n",
        "\r\n",
        "# Check if the cell 'grid[y,x]' can assume the value 'n'\r\n",
        "def possible(grid,y,x,n):\r\n",
        "    # Check if 'n' is already in row 'y' or in column 'x'\r\n",
        "    for i in range(d):\r\n",
        "        if grid[y][i] == n or grid[i][x] == n:\r\n",
        "            return False\r\n",
        "    # Check if 'n' is already in the 3x3 region\r\n",
        "    y0 = y - (y % d_sqrt)\r\n",
        "    x0 = x - (x % d_sqrt)\r\n",
        "    for i in range(d_sqrt):\r\n",
        "        for j in range(d_sqrt):\r\n",
        "            if grid[y0 + i][x0 + j] == n:\r\n",
        "                return False\r\n",
        "    return True\r\n",
        "\r\n",
        "# Backtracking algorithm implementation to solve a Sudoku\r\n",
        "def solve(grid):\r\n",
        "    global grid_solved\r\n",
        "    global n_solutions\r\n",
        "    for y in range(d):\r\n",
        "        for x in range(d):\r\n",
        "            if grid[y][x] == 0:\r\n",
        "                for n in range(1,d+1):\r\n",
        "                    if possible(grid,y,x,n):\r\n",
        "                        grid[y][x] = n\r\n",
        "                        solve(grid)\r\n",
        "                        grid[y][x] = 0\r\n",
        "                return\r\n",
        "    print(grid)\r\n",
        "    #input(\"More solutions?\")\r\n",
        "    #grid_solved = np.copy(grid)\r\n",
        "    n_solutions+=1\r\n",
        "\r\n",
        "# Faster implementation of the backtraking algorithm whose objective is to\r\n",
        "# determine if the Sudoku does not have a unique solution\r\n",
        "def solve_fast(grid):\r\n",
        "    global grid_solved\r\n",
        "    global n_solutions\r\n",
        "    global end_solver\r\n",
        "    for y in range(d):\r\n",
        "        for x in range(d):\r\n",
        "            if grid[y][x] == 0:\r\n",
        "                for n in range(1,d+1):\r\n",
        "                    if possible(grid,y,x,n):\r\n",
        "                        grid[y][x] = n\r\n",
        "                        solve_fast(grid)\r\n",
        "                        if not(end_solver):\r\n",
        "                            grid[y][x] = 0\r\n",
        "                return\r\n",
        "    #print(grid)\r\n",
        "    n_solutions+=1\r\n",
        "    if n_solutions == 2:\r\n",
        "        end_solver = True\r\n",
        "\r\n",
        "# Randomly fill an empty grid with dimension d\r\n",
        "def fill(grid):\r\n",
        "    global grid_filled\r\n",
        "    for y in range(d):\r\n",
        "        for x in range(d):\r\n",
        "            if grid[y][x] == 0:\r\n",
        "                shuffle(numbers)\r\n",
        "                for n in numbers:\r\n",
        "                    if possible(grid,y,x,n):\r\n",
        "                        grid[y][x] = n\r\n",
        "                        if not(np.all(grid)):\r\n",
        "                            fill(grid)\r\n",
        "                            grid[y][x] = 0\r\n",
        "                        else:\r\n",
        "                            grid_filled = np.copy(grid)\r\n",
        "                return\r\n",
        "\r\n",
        "# Create a Sudoku from a fully filled grid\r\n",
        "def create(grid):\r\n",
        "    global n_solutions\r\n",
        "    global end_solver\r\n",
        "    shuffle(cells)\r\n",
        "    for i in range(d**2):\r\n",
        "        y = cells[i] // d\r\n",
        "        x = cells[i] % d\r\n",
        "        backup = grid[y][x]\r\n",
        "        grid[y][x] = 0\r\n",
        "        grid_copy = np.copy(grid)\r\n",
        "        n_solutions = 0\r\n",
        "        end_solver = False\r\n",
        "        solve_fast(grid_copy)\r\n",
        "        if n_solutions != 1:\r\n",
        "            grid[y][x] = backup\r\n",
        "        #print('\\b\\b\\b\\b{:03d}'.format(i+1) )\r\n",
        "\r\n",
        "# Substitute '0' with ' ' in a grid\r\n",
        "def get_grid_str(i):\r\n",
        "    return ' ' if i == 0 else '{}'.format(i)\r\n",
        "\r\n",
        "# Plot the grid to create an enjoyable Sudoku\r\n",
        "def grid2pdf(grid):\r\n",
        "    grid_str = np.vectorize(get_grid_str)(grid)\r\n",
        "    # Create a figure\r\n",
        "    fig, ax = plt.subplots()\r\n",
        "    im = ax.imshow(grid,cmap='binary', vmin=255, vmax=255)\r\n",
        "    # Add the Sudoku clues to the figure\r\n",
        "    for i in range(d):\r\n",
        "        for j in range(d):\r\n",
        "            text = ax.text(j, i, grid_str[i,j],\r\n",
        "                           ha='center', va='center', color='k')\r\n",
        "    # Add the lines\r\n",
        "    plt.axhline(y=-0.5, linewidth=5, color='k')\r\n",
        "    plt.axvline(x=-0.5, linewidth=5, color='k')\r\n",
        "    for i in range(d-1):\r\n",
        "        if (i+1) % d_sqrt == 0:\r\n",
        "            plt.axhline(y=i+0.5, linewidth=3, color='k')\r\n",
        "            plt.axvline(x=i+0.5, linewidth=3, color='k')\r\n",
        "        else:\r\n",
        "            plt.axhline(y=i+0.5, linewidth=1, color='k')\r\n",
        "            plt.axvline(x=i+0.5, linewidth=1, color='k')           \r\n",
        "    plt.axhline(y=d-0.5, linewidth=5, color='k')\r\n",
        "    plt.axvline(x=d-0.5, linewidth=5, color='k')\r\n",
        "    # Plot the figure without axis\r\n",
        "    plt.axis('off')\r\n",
        "    plt.savefig('sudoku.pdf', bbox_inches='tight')\r\n",
        "    plt.savefig('sudoku.png', bbox_inches='tight')"
      ],
      "execution_count": 39,
      "outputs": []
    },
    {
      "cell_type": "markdown",
      "metadata": {
        "id": "P-h_of6Xi4ip"
      },
      "source": [
        "## Sudoku Resolution\r\n",
        "\r\n",
        "The function `solve`, implementing the backtraking algorithm, is called to solve a given Sudoku, specified by the variable `grid`. Thus, all the possible solutions, i.e. the complete grids, are showed."
      ]
    },
    {
      "cell_type": "code",
      "metadata": {
        "colab": {
          "base_uri": "https://localhost:8080/"
        },
        "id": "2BU1IwTglmt9",
        "outputId": "58c41da0-e229-4bf3-9da7-274dcfe2d80e"
      },
      "source": [
        "# Input grid\r\n",
        "d = 9\r\n",
        "grid = np.array([[5, 3, 0, 0, 7, 0, 0, 0, 0],\r\n",
        "                 [6, 0, 0, 1, 9, 5, 0, 0, 0],\r\n",
        "                 [0, 9, 8, 0, 0, 0, 0, 6, 0],\r\n",
        "                 [8, 0, 0, 0, 6, 0, 0, 0, 3],\r\n",
        "                 [4, 0, 0, 8, 0, 3, 0, 0, 1],\r\n",
        "                 [7, 0, 0, 0, 2, 0, 0, 0, 6],\r\n",
        "                 [0, 6, 0, 0, 0, 0, 2, 8, 0],\r\n",
        "                 [0, 0, 0, 4, 1, 9, 0, 0, 5],\r\n",
        "                 [0, 0, 0, 0, 8, 0, 0, 7, 9]])\r\n",
        "\r\n",
        "# Utility variables\r\n",
        "d_sqrt = int(math.sqrt(d))\r\n",
        "numbers = list(range(1,d+1))\r\n",
        "cells = list(range(d**2))\r\n",
        "\r\n",
        "n_solutions = 0\r\n",
        "print('Solution(s):\\n')\r\n",
        "solve(grid)\r\n",
        "#print(grid_solved)\r\n",
        "print('\\nNumber of solutions:', n_solutions)"
      ],
      "execution_count": 40,
      "outputs": [
        {
          "output_type": "stream",
          "text": [
            "Solution(s):\n",
            "\n",
            "[[5 3 4 6 7 8 9 1 2]\n",
            " [6 7 2 1 9 5 3 4 8]\n",
            " [1 9 8 3 4 2 5 6 7]\n",
            " [8 5 9 7 6 1 4 2 3]\n",
            " [4 2 6 8 5 3 7 9 1]\n",
            " [7 1 3 9 2 4 8 5 6]\n",
            " [9 6 1 5 3 7 2 8 4]\n",
            " [2 8 7 4 1 9 6 3 5]\n",
            " [3 4 5 2 8 6 1 7 9]]\n",
            "\n",
            "Number of solutions: 1\n"
          ],
          "name": "stdout"
        }
      ]
    },
    {
      "cell_type": "markdown",
      "metadata": {
        "id": "eiNGm1yqo4yA"
      },
      "source": [
        "## Sudoky Generation\r\n",
        "\r\n",
        "The generation of a Sudoku with unique solution takes place according to the following steps:\r\n",
        "1. Generate a completely filled grid which satisfies the Sudoku rules with the function `fill`. This will be the unique solution of our Sudoku.\r\n",
        "2. Iteratively, remove one random element from the grid.\r\n",
        "3. Find the number of solutions of the new obtained grid with the function `solve_fast`, a simplified Sudoku solver.\r\n",
        "4. If the grid has no longer a unique solution, reinsert the removed element.\r\n",
        "5. Return to Step 2 until a certain number of iteraction is reached. The higher this number, the more difficult is the generated Sudoku since more cells are removed."
      ]
    },
    {
      "cell_type": "code",
      "metadata": {
        "colab": {
          "base_uri": "https://localhost:8080/",
          "height": 860
        },
        "id": "Ya32y5hxpFrC",
        "outputId": "a7a9e755-2606-4890-b6c3-f27c5f346bf5"
      },
      "source": [
        "# Insert the dimension 'd'. Possible values: 4, 9, 16\r\n",
        "d = 9\r\n",
        "\r\n",
        "# Utility variables\r\n",
        "d_sqrt = int(math.sqrt(d))\r\n",
        "numbers = list(range(1,d+1))\r\n",
        "cells = list(range(d**2))\r\n",
        "grid_empty = np.zeros((d,d), dtype=int)\r\n",
        "\r\n",
        "# Fill randomly the empty grid\r\n",
        "fill(grid_empty)\r\n",
        "print('Filled grid randomly generated:')\r\n",
        "print(grid_filled, '\\n')\r\n",
        "\r\n",
        "# Create a Sudoku\r\n",
        "print('Generated Sudoku:')\r\n",
        "#print('Progress (/', d**2, '):   ')\r\n",
        "create(grid_filled)\r\n",
        "print(grid_filled)\r\n",
        "print('Number of clues:', np.count_nonzero(grid_filled), '\\n')\r\n",
        "\r\n",
        "# Solve the created Sudoku\r\n",
        "n_solutions = 0\r\n",
        "print('Solution:')\r\n",
        "solve(grid_filled)\r\n",
        "#print(grid_solved)\r\n",
        "print('Number of solutions:', n_solutions, '\\n')\r\n",
        "\r\n",
        "# Print the created Sudoku\r\n",
        "print('Printed generated Sudoku:')\r\n",
        "grid2pdf(grid_filled)"
      ],
      "execution_count": 41,
      "outputs": [
        {
          "output_type": "stream",
          "text": [
            "Filled grid randomly generated:\n",
            "[[1 6 7 4 8 9 2 3 5]\n",
            " [8 3 9 7 5 2 6 4 1]\n",
            " [4 2 5 3 6 1 9 7 8]\n",
            " [2 4 3 6 1 5 7 8 9]\n",
            " [9 7 6 2 3 8 1 5 4]\n",
            " [5 8 1 9 4 7 3 6 2]\n",
            " [3 1 2 8 7 4 5 9 6]\n",
            " [7 5 4 1 9 6 8 2 3]\n",
            " [6 9 8 5 2 3 4 1 7]] \n",
            "\n",
            "Generated Sudoku:\n",
            "[[1 0 7 0 0 9 0 0 5]\n",
            " [0 0 0 0 0 2 0 4 0]\n",
            " [0 0 0 0 0 1 9 0 0]\n",
            " [0 4 0 6 0 0 0 0 0]\n",
            " [9 7 0 0 0 8 1 0 0]\n",
            " [0 8 0 0 4 0 3 0 0]\n",
            " [3 0 0 0 0 4 0 9 0]\n",
            " [0 0 0 0 0 0 8 0 0]\n",
            " [0 0 0 5 0 0 0 0 7]]\n",
            "Number of clues: 23 \n",
            "\n",
            "Solution:\n",
            "[[1 6 7 4 8 9 2 3 5]\n",
            " [8 3 9 7 5 2 6 4 1]\n",
            " [4 2 5 3 6 1 9 7 8]\n",
            " [2 4 3 6 1 5 7 8 9]\n",
            " [9 7 6 2 3 8 1 5 4]\n",
            " [5 8 1 9 4 7 3 6 2]\n",
            " [3 1 2 8 7 4 5 9 6]\n",
            " [7 5 4 1 9 6 8 2 3]\n",
            " [6 9 8 5 2 3 4 1 7]]\n",
            "Number of solutions: 1 \n",
            "\n",
            "Printed generated Sudoku:\n"
          ],
          "name": "stdout"
        },
        {
          "output_type": "display_data",
          "data": {
            "image/png": "[encoded data removed]",
            "text/plain": [
              "<Figure size 432x288 with 1 Axes>"
            ]
          },
          "metadata": {
            "tags": [],
            "needs_background": "light"
          }
        }
      ]
    },
    {
      "cell_type": "code",
      "metadata": {
        "id": "u7agI_Zva_ow"
      },
      "source": [
        ""
      ],
      "execution_count": null,
      "outputs": []
    }
  ]
}